{
  "nbformat": 4,
  "nbformat_minor": 0,
  "metadata": {
    "kernelspec": {
      "display_name": "Python 3",
      "language": "python",
      "name": "python3"
    },
    "language_info": {
      "codemirror_mode": {
        "name": "ipython",
        "version": 3
      },
      "file_extension": ".py",
      "mimetype": "text/x-python",
      "name": "python",
      "nbconvert_exporter": "python",
      "pygments_lexer": "ipython3",
      "version": "3.8.5"
    },
    "colab": {
      "name": "punto7.ipynb",
      "provenance": [],
      "include_colab_link": true
    }
  },
  "cells": [
    {
      "cell_type": "markdown",
      "metadata": {
        "id": "view-in-github",
        "colab_type": "text"
      },
      "source": [
        "<a href=\"https://colab.research.google.com/github/shpotes/modelacion-experimental/blob/master/notebooks/metodos-no-parametricos/punto7.ipynb\" target=\"_parent\"><img src=\"https://colab.research.google.com/assets/colab-badge.svg\" alt=\"Open In Colab\"/></a>"
      ]
    },
    {
      "cell_type": "code",
      "metadata": {
        "colab": {
          "base_uri": "https://localhost:8080/"
        },
        "id": "otXNq5sGX-KS",
        "outputId": "c6841bcc-418a-47b2-cecc-a5060c9144e2"
      },
      "source": [
        "!git clone https://github.com/shpotes/modelacion-experimental\n",
        "%cd modelacion-experimental"
      ],
      "execution_count": 1,
      "outputs": [
        {
          "output_type": "stream",
          "text": [
            "Cloning into 'modelacion-experimental'...\n",
            "remote: Enumerating objects: 146, done.\u001b[K\n",
            "remote: Counting objects: 100% (146/146), done.\u001b[K\n",
            "remote: Compressing objects: 100% (93/93), done.\u001b[K\n",
            "remote: Total 146 (delta 53), reused 126 (delta 38), pack-reused 0\u001b[K\n",
            "Receiving objects: 100% (146/146), 291.31 KiB | 484.00 KiB/s, done.\n",
            "Resolving deltas: 100% (53/53), done.\n",
            "/content/modelacion-experimental\n"
          ],
          "name": "stdout"
        }
      ]
    },
    {
      "cell_type": "code",
      "metadata": {
        "id": "cRitu7RpX-KZ"
      },
      "source": [
        "from functools import partial\n",
        "import logging\n",
        "\n",
        "logging.getLogger().setLevel(logging.INFO)\n",
        "\n",
        "import numpy as np\n",
        "import sympy as sy\n",
        "from sympy.abc import t, k\n",
        "\n",
        "from src.identification.non_parametric.correlation import (\n",
        "    manual_correlation_method,\n",
        "    manual_simulation\n",
        ")"
      ],
      "execution_count": 2,
      "outputs": []
    },
    {
      "cell_type": "code",
      "metadata": {
        "id": "hXGuQaY0X-Ka"
      },
      "source": [
        "y_data= [0, 1, -1.5, 1.75, 0.125, -1.0625]\n",
        "u_data = [1, -1, 1, 1, -1, -1]"
      ],
      "execution_count": 3,
      "outputs": []
    },
    {
      "cell_type": "code",
      "metadata": {
        "colab": {
          "base_uri": "https://localhost:8080/"
        },
        "id": "b6rBcY6SX-Ka",
        "outputId": "69f27e35-5f77-4b08-d09e-3c6cf45c78cd"
      },
      "source": [
        "weighting_seq = manual_correlation_method(u_data, y_data, seq_len=6)\n",
        "input_signal = [1 for _ in range(len(weighting_seq))]\n",
        "weighting_seq"
      ],
      "execution_count": 4,
      "outputs": [
        {
          "output_type": "stream",
          "text": [
            "INFO:root:Eu²(t) = u[1]**2/6 + u[2]**2/6 + u[3]**2/6 + u[4]**2/6 + u[5]**2/6 + u[6]**2/6\n",
            "INFO:root:Eu²(t) = 1\n",
            "INFO:root:ĝ(0) = Sum(u[t]*y[t], (t, 1, 6))/6\n",
            "INFO:root:ĝ(0) = --1.0625/6 - 1.5/6 + 0/6 - 0.125/6 - 1/6 + 1.75/6\n",
            "INFO:root:ĝ(0) = 0.0312500000000000\n",
            "INFO:root:ĝ(1) = Sum(u[t - 1]*y[t], (t, 1, 6))/6\n",
            "INFO:root:ĝ(1) = --1.0625/6 - -1.5/6 + 0*u[0]/6 + 0.125/6 + 1/6 + 1.75/6\n",
            "INFO:root:ĝ(1) = 0.906250000000000\n",
            "INFO:root:ĝ(2) = Sum(u[t - 2]*y[t], (t, 1, 6))/6\n",
            "INFO:root:ĝ(2) = -1.0625/6 - 1.5/6 + 0*u[-1]/6 + 0.125/6 + 1*u[0]/6 - 1.75/6\n",
            "INFO:root:ĝ(2) = u[0]/6 - 0.697916666666667\n",
            "INFO:root:ĝ(3) = Sum(u[t - 3]*y[t], (t, 1, 6))/6\n",
            "INFO:root:ĝ(3) = -1.0625/6 - 1.5*u[0]/6 + 0*u[-2]/6 - 0.125/6 + 1*u[-1]/6 + 1.75/6\n",
            "INFO:root:ĝ(3) = u[-1]/6 - 0.25*u[0] + 0.09375\n",
            "INFO:root:ĝ(4) = Sum(u[t - 4]*y[t], (t, 1, 6))/6\n",
            "INFO:root:ĝ(4) = --1.0625/6 - 1.5*u[-1]/6 + 0*u[-3]/6 + 0.125/6 + 1*u[-2]/6 + 1.75*u[0]/6\n",
            "INFO:root:ĝ(4) = -0.25*u[-1] + u[-2]/6 + 0.291666666666667*u[0] + 0.197916666666667\n",
            "INFO:root:ĝ(5) = Sum(u[t - 5]*y[t], (t, 1, 6))/6\n",
            "INFO:root:ĝ(5) = -1.0625/6 - 1.5*u[-2]/6 + 0*u[-4]/6 + 0.125*u[0]/6 + 1*u[-3]/6 + 1.75*u[-1]/6\n",
            "INFO:root:ĝ(5) = 0.291666666666667*u[-1] - 0.25*u[-2] + u[-3]/6 + 0.0208333333333333*u[0] - 0.177083333333333\n"
          ],
          "name": "stderr"
        },
        {
          "output_type": "execute_result",
          "data": {
            "text/plain": [
              "[0.0312500000000000,\n",
              " 0.906250000000000,\n",
              " -0.697916666666667,\n",
              " 0.0937500000000000,\n",
              " 0.197916666666667,\n",
              " -0.177083333333333]"
            ]
          },
          "metadata": {
            "tags": []
          },
          "execution_count": 4
        }
      ]
    },
    {
      "cell_type": "code",
      "metadata": {
        "colab": {
          "base_uri": "https://localhost:8080/"
        },
        "id": "xCz-x-a3X-Kb",
        "outputId": "ddd951c4-4f82-440c-8654-e6d2d67a78ec"
      },
      "source": [
        "manual_simulation(weighting_seq, input_signal)"
      ],
      "execution_count": 5,
      "outputs": [
        {
          "output_type": "stream",
          "text": [
            "INFO:root:ŷ(t) = ĝ(t) * u(t)\n",
            "INFO:root:ŷ(1) = Sum(u[1 - k]*ĝ[k], (k, 0, 1))\n",
            "INFO:root:ŷ(1) = 0.0312500000000000 + 0.906250000000000\n",
            "INFO:root:ŷ(1) = 0.937500000000000\n",
            "INFO:root:ŷ(t) = ĝ(t) * u(t)\n",
            "INFO:root:ŷ(2) = Sum(u[2 - k]*ĝ[k], (k, 0, 2))\n",
            "INFO:root:ŷ(2) = -0.697916666666667 + 0.0312500000000000 + 0.906250000000000\n",
            "INFO:root:ŷ(2) = 0.239583333333333\n",
            "INFO:root:ŷ(t) = ĝ(t) * u(t)\n",
            "INFO:root:ŷ(3) = Sum(u[3 - k]*ĝ[k], (k, 0, 3))\n",
            "INFO:root:ŷ(3) = -0.697916666666667 + 0.0312500000000000 + 0.0937500000000000 + 0.906250000000000\n",
            "INFO:root:ŷ(3) = 0.333333333333333\n"
          ],
          "name": "stderr"
        },
        {
          "output_type": "execute_result",
          "data": {
            "text/plain": [
              "[0.937500000000000, 0.239583333333333, 0.333333333333333]"
            ]
          },
          "metadata": {
            "tags": []
          },
          "execution_count": 5
        }
      ]
    },
    {
      "cell_type": "code",
      "metadata": {
        "id": "R68l1FImX-Kc"
      },
      "source": [
        ""
      ],
      "execution_count": null,
      "outputs": []
    }
  ]
}