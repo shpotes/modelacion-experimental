{
 "cells": [
  {
   "cell_type": "code",
   "execution_count": 1,
   "metadata": {},
   "outputs": [
    {
     "name": "stdout",
     "output_type": "stream",
     "text": [
      "/home/shpotes/Courses/EAFIT/experimental/modelacion-experimental\n"
     ]
    }
   ],
   "source": [
    "%cd ../.."
   ]
  },
  {
   "cell_type": "code",
   "execution_count": 2,
   "metadata": {},
   "outputs": [],
   "source": [
    "from functools import partial\n",
    "import logging\n",
    "\n",
    "logging.getLogger().setLevel(logging.INFO)\n",
    "\n",
    "import numpy as np\n",
    "import sympy as sy\n",
    "from sympy.abc import t, k\n",
    "\n",
    "from src.identification.non_parametric.correlation import (\n",
    "    manual_correlation_method,\n",
    "    manual_simulation\n",
    ")"
   ]
  },
  {
   "cell_type": "code",
   "execution_count": 3,
   "metadata": {},
   "outputs": [],
   "source": [
    "y_data= [0, 1, -1.5, 1.75, 0.125, -1.0625]\n",
    "u_data = [1, -1, 1, 1, -1, -1]"
   ]
  },
  {
   "cell_type": "code",
   "execution_count": 6,
   "metadata": {},
   "outputs": [
    {
     "name": "stderr",
     "output_type": "stream",
     "text": [
      "INFO:root:Eu²(t) = u[1]**2/6 + u[2]**2/6 + u[3]**2/6 + u[4]**2/6 + u[5]**2/6 + u[6]**2/6\n",
      "INFO:root:Eu²(t) = 1\n",
      "INFO:root:ĝ(0) = Sum(u[t]*y[t], (t, 1, 6))/6\n",
      "INFO:root:ĝ(0) = --1.0625/6 - 1.5/6 + 0/6 - 0.125/6 - 1/6 + 1.75/6\n",
      "INFO:root:ĝ(0) = 0.0312500000000000\n",
      "INFO:root:ĝ(1) = Sum(u[t - 1]*y[t], (t, 1, 6))/6\n",
      "INFO:root:ĝ(1) = --1.0625/6 - -1.5/6 + 0*u[0]/6 + 0.125/6 + 1/6 + 1.75/6\n",
      "INFO:root:ĝ(1) = 0.906250000000000\n",
      "INFO:root:ĝ(2) = Sum(u[t - 2]*y[t], (t, 1, 6))/6\n",
      "INFO:root:ĝ(2) = -1.0625/6 - 1.5/6 + 0*u[-1]/6 + 0.125/6 + 1*u[0]/6 - 1.75/6\n",
      "INFO:root:ĝ(2) = u[0]/6 - 0.697916666666667\n",
      "INFO:root:ĝ(3) = Sum(u[t - 3]*y[t], (t, 1, 6))/6\n",
      "INFO:root:ĝ(3) = -1.0625/6 - 1.5*u[0]/6 + 0*u[-2]/6 - 0.125/6 + 1*u[-1]/6 + 1.75/6\n",
      "INFO:root:ĝ(3) = u[-1]/6 - 0.25*u[0] + 0.09375\n",
      "INFO:root:ĝ(4) = Sum(u[t - 4]*y[t], (t, 1, 6))/6\n",
      "INFO:root:ĝ(4) = --1.0625/6 - 1.5*u[-1]/6 + 0*u[-3]/6 + 0.125/6 + 1*u[-2]/6 + 1.75*u[0]/6\n",
      "INFO:root:ĝ(4) = -0.25*u[-1] + u[-2]/6 + 0.291666666666667*u[0] + 0.197916666666667\n",
      "INFO:root:ĝ(5) = Sum(u[t - 5]*y[t], (t, 1, 6))/6\n",
      "INFO:root:ĝ(5) = -1.0625/6 - 1.5*u[-2]/6 + 0*u[-4]/6 + 0.125*u[0]/6 + 1*u[-3]/6 + 1.75*u[-1]/6\n",
      "INFO:root:ĝ(5) = 0.291666666666667*u[-1] - 0.25*u[-2] + u[-3]/6 + 0.0208333333333333*u[0] - 0.177083333333333\n"
     ]
    },
    {
     "data": {
      "text/plain": [
       "[0.0312500000000000,\n",
       " 0.906250000000000,\n",
       " -0.697916666666667,\n",
       " 0.0937500000000000,\n",
       " 0.197916666666667,\n",
       " -0.177083333333333]"
      ]
     },
     "execution_count": 6,
     "metadata": {},
     "output_type": "execute_result"
    }
   ],
   "source": [
    "weighting_seq = manual_correlation_method(u_data, y_data, seq_len=6)\n",
    "input_signal = [1 for _ in range(len(weighting_seq))]\n",
    "weighting_seq"
   ]
  },
  {
   "cell_type": "code",
   "execution_count": 5,
   "metadata": {},
   "outputs": [
    {
     "name": "stderr",
     "output_type": "stream",
     "text": [
      "INFO:root:ŷ(t) = ĝ(t) * u(t)\n",
      "INFO:root:ŷ(1) = Sum(u[1 - k]*ĝ[k], (k, 0, 1))\n",
      "INFO:root:ŷ(1) = 0.0312500000000000 + 0.906250000000000\n",
      "INFO:root:ŷ(1) = 0.937500000000000\n",
      "INFO:root:ŷ(t) = ĝ(t) * u(t)\n",
      "INFO:root:ŷ(2) = Sum(u[2 - k]*ĝ[k], (k, 0, 2))\n",
      "INFO:root:ŷ(2) = -0.697916666666667 + 0.0312500000000000 + 0.906250000000000\n",
      "INFO:root:ŷ(2) = 0.239583333333333\n",
      "INFO:root:ŷ(t) = ĝ(t) * u(t)\n",
      "INFO:root:ŷ(3) = Sum(u[3 - k]*ĝ[k], (k, 0, 3))\n",
      "INFO:root:ŷ(3) = -0.697916666666667 + 0.0312500000000000 + 0.0937500000000000 + 0.906250000000000\n",
      "INFO:root:ŷ(3) = 0.333333333333333\n"
     ]
    },
    {
     "data": {
      "text/plain": [
       "[0.937500000000000, 0.239583333333333, 0.333333333333333]"
      ]
     },
     "execution_count": 5,
     "metadata": {},
     "output_type": "execute_result"
    }
   ],
   "source": [
    "manual_simulation(weighting_seq, input_signal)"
   ]
  },
  {
   "cell_type": "code",
   "execution_count": null,
   "metadata": {},
   "outputs": [],
   "source": []
  }
 ],
 "metadata": {
  "kernelspec": {
   "display_name": "Python 3",
   "language": "python",
   "name": "python3"
  },
  "language_info": {
   "codemirror_mode": {
    "name": "ipython",
    "version": 3
   },
   "file_extension": ".py",
   "mimetype": "text/x-python",
   "name": "python",
   "nbconvert_exporter": "python",
   "pygments_lexer": "ipython3",
   "version": "3.8.5"
  }
 },
 "nbformat": 4,
 "nbformat_minor": 4
}
