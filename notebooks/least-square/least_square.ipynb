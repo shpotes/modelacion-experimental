{
 "cells": [
  {
   "cell_type": "code",
   "execution_count": 1,
   "metadata": {},
   "outputs": [
    {
     "name": "stdout",
     "output_type": "stream",
     "text": [
      "/home/shpotes/Courses/EAFIT/experimental/modelacion-experimental\n"
     ]
    }
   ],
   "source": [
    "%cd ../.."
   ]
  },
  {
   "cell_type": "code",
   "execution_count": 2,
   "metadata": {},
   "outputs": [],
   "source": [
    "import logging\n",
    "from functools import partial\n",
    "logging.getLogger().setLevel(logging.INFO)\n",
    "\n",
    "import matplotlib.pyplot as plt\n",
    "import numpy as np\n",
    "import pandas as pd\n",
    "import sympy as sy\n",
    "from sympy.abc import t\n",
    "\n",
    "from src import DiscreteModel\n",
    "from src.methods import siso"
   ]
  },
  {
   "cell_type": "code",
   "execution_count": 3,
   "metadata": {},
   "outputs": [],
   "source": [
    "na = 1\n",
    "nb = 1\n",
    "nk = 1\n",
    "\n",
    "y_data = [0, 3.11, 3.80, 3.96, 3.99, 4, 4]\n",
    "N = len(y_data)\n",
    "u_data = [1 for _ in range(N)]"
   ]
  },
  {
   "cell_type": "code",
   "execution_count": 4,
   "metadata": {},
   "outputs": [],
   "source": [
    "def func_wrapper(data, idx):\n",
    "    if idx < 0:\n",
    "        return 0\n",
    "    else:\n",
    "        return data[idx]"
   ]
  },
  {
   "cell_type": "code",
   "execution_count": 5,
   "metadata": {},
   "outputs": [],
   "source": [
    "y_func = partial(func_wrapper, y_data)\n",
    "u_func = partial(func_wrapper, u_data)"
   ]
  },
  {
   "cell_type": "code",
   "execution_count": 6,
   "metadata": {},
   "outputs": [
    {
     "name": "stderr",
     "output_type": "stream",
     "text": [
      "INFO:root:(b_1/(q*(1 + a_1/q)), 1/(1 + a_1/q))\n",
      "INFO:root:(b_1/(z*(1 + a_1/z)), 1/(1 + a_1/z))\n"
     ]
    },
    {
     "data": {
      "text/latex": [
       "$\\displaystyle \\frac{b_{1} u(t)}{1 z + a_{1}} + \\frac{e(t) z}{1 z + a_{1}}$"
      ],
      "text/plain": [
       "b_1*u(t)/(1*z + a_1) + e(t)*z/(1*z + a_1)"
      ]
     },
     "execution_count": 6,
     "metadata": {},
     "output_type": "execute_result"
    }
   ],
   "source": [
    "arx = siso.ARX(na, nb, nk)\n",
    "arx.get_transfer_function()"
   ]
  },
  {
   "cell_type": "code",
   "execution_count": 7,
   "metadata": {},
   "outputs": [
    {
     "data": {
      "text/plain": [
       "{'Φ': Matrix([\n",
       " [-y(t - 1)],\n",
       " [ u(t - 1)]]),\n",
       " 'θ': Matrix([\n",
       " [a_1],\n",
       " [b_1]])}"
      ]
     },
     "execution_count": 7,
     "metadata": {},
     "output_type": "execute_result"
    }
   ],
   "source": [
    "reg = arx.get_regresion_form()\n",
    "reg"
   ]
  },
  {
   "cell_type": "code",
   "execution_count": 8,
   "metadata": {},
   "outputs": [],
   "source": [
    "t = sy.symbols('t')\n",
    "\n",
    "y_sym = sy.Function('y')\n",
    "u_sym = sy.Function('u')"
   ]
  },
  {
   "cell_type": "code",
   "execution_count": 9,
   "metadata": {},
   "outputs": [
    {
     "data": {
      "text/latex": [
       "$\\displaystyle \\left[\\begin{matrix}- y{\\left(0 \\right)} & u{\\left(0 \\right)}\\\\- y{\\left(1 \\right)} & u{\\left(1 \\right)}\\\\- y{\\left(2 \\right)} & u{\\left(2 \\right)}\\\\- y{\\left(3 \\right)} & u{\\left(3 \\right)}\\\\- y{\\left(4 \\right)} & u{\\left(4 \\right)}\\\\- y{\\left(5 \\right)} & u{\\left(5 \\right)}\\end{matrix}\\right]$"
      ],
      "text/plain": [
       "Matrix([\n",
       "[-y(0), u(0)],\n",
       "[-y(1), u(1)],\n",
       "[-y(2), u(2)],\n",
       "[-y(3), u(3)],\n",
       "[-y(4), u(4)],\n",
       "[-y(5), u(5)]])"
      ]
     },
     "execution_count": 9,
     "metadata": {},
     "output_type": "execute_result"
    }
   ],
   "source": [
    "N = len(y_data)\n",
    "\n",
    "Q = sy.Matrix([\n",
    "    reg['Φ'].T.replace(t, i) for i in range(1, N)\n",
    "])\n",
    "\n",
    "Q"
   ]
  },
  {
   "cell_type": "code",
   "execution_count": 10,
   "metadata": {},
   "outputs": [
    {
     "data": {
      "text/latex": [
       "$\\displaystyle \\left[\\begin{matrix}0 & 1\\\\-3.11 & 1\\\\-3.8 & 1\\\\-3.96 & 1\\\\-3.99 & 1\\\\-4 & 1\\end{matrix}\\right]$"
      ],
      "text/plain": [
       "Matrix([\n",
       "[    0, 1],\n",
       "[-3.11, 1],\n",
       "[ -3.8, 1],\n",
       "[-3.96, 1],\n",
       "[-3.99, 1],\n",
       "[   -4, 1]])"
      ]
     },
     "execution_count": 10,
     "metadata": {},
     "output_type": "execute_result"
    }
   ],
   "source": [
    "Q_num = Q.replace(y_sym, y_func).replace(u_sym, u_func)\n",
    "Q_num"
   ]
  },
  {
   "cell_type": "code",
   "execution_count": 11,
   "metadata": {},
   "outputs": [],
   "source": [
    "Q_num = np.array(Q_num, dtype=np.float)"
   ]
  },
  {
   "cell_type": "code",
   "execution_count": 12,
   "metadata": {},
   "outputs": [
    {
     "data": {
      "text/latex": [
       "$\\displaystyle \\left[\\begin{matrix}y{\\left(1 \\right)}\\\\y{\\left(2 \\right)}\\\\y{\\left(3 \\right)}\\\\y{\\left(4 \\right)}\\\\y{\\left(5 \\right)}\\\\y{\\left(6 \\right)}\\end{matrix}\\right]$"
      ],
      "text/plain": [
       "Matrix([\n",
       "[y(1)],\n",
       "[y(2)],\n",
       "[y(3)],\n",
       "[y(4)],\n",
       "[y(5)],\n",
       "[y(6)]])"
      ]
     },
     "execution_count": 12,
     "metadata": {},
     "output_type": "execute_result"
    }
   ],
   "source": [
    "Y = sy.Matrix([\n",
    "    y_sym(i) for i in range(1, N)\n",
    "])\n",
    "Y"
   ]
  },
  {
   "cell_type": "code",
   "execution_count": 13,
   "metadata": {},
   "outputs": [
    {
     "data": {
      "text/latex": [
       "$\\displaystyle \\left[\\begin{matrix}3.11\\\\3.8\\\\3.96\\\\3.99\\\\4\\\\4\\end{matrix}\\right]$"
      ],
      "text/plain": [
       "Matrix([\n",
       "[3.11],\n",
       "[ 3.8],\n",
       "[3.96],\n",
       "[3.99],\n",
       "[   4],\n",
       "[   4]])"
      ]
     },
     "execution_count": 13,
     "metadata": {},
     "output_type": "execute_result"
    }
   ],
   "source": [
    "Y_num = Y.replace(y_sym, y_func)\n",
    "Y_num"
   ]
  },
  {
   "cell_type": "code",
   "execution_count": 14,
   "metadata": {},
   "outputs": [],
   "source": [
    "Y_num = np.array(Y_num, dtype=np.float)"
   ]
  },
  {
   "cell_type": "code",
   "execution_count": 15,
   "metadata": {},
   "outputs": [],
   "source": [
    "theta = np.linalg.inv(Q_num.T @ Q_num) @ Q_num.T @ Y_num"
   ]
  },
  {
   "cell_type": "code",
   "execution_count": 16,
   "metadata": {},
   "outputs": [],
   "source": [
    "error = Q_num @ theta - Y_num"
   ]
  },
  {
   "cell_type": "code",
   "execution_count": 17,
   "metadata": {},
   "outputs": [
    {
     "data": {
      "text/plain": [
       "5.359920196505272e-06"
      ]
     },
     "execution_count": 17,
     "metadata": {},
     "output_type": "execute_result"
    }
   ],
   "source": [
    "# lambd\n",
    "lambd = error.T @ error / (N - (na + nb))\n",
    "lambd.flatten()[0]"
   ]
  },
  {
   "cell_type": "code",
   "execution_count": 18,
   "metadata": {},
   "outputs": [
    {
     "data": {
      "text/plain": [
       "array([[4.31189882e-07, 1.35537353e-06],\n",
       "       [1.35537353e-06, 5.15371082e-06]])"
      ]
     },
     "execution_count": 18,
     "metadata": {},
     "output_type": "execute_result"
    }
   ],
   "source": [
    "# Cov\n",
    "lambd * np.linalg.inv(Q_num.T @ Q_num)"
   ]
  },
  {
   "cell_type": "code",
   "execution_count": 19,
   "metadata": {},
   "outputs": [],
   "source": [
    "A = theta.flatten()[:na].tolist()\n",
    "B = theta.flatten()[-nb:].tolist()"
   ]
  },
  {
   "cell_type": "code",
   "execution_count": 20,
   "metadata": {},
   "outputs": [],
   "source": [
    "G_estim = DiscreteModel(B, [1, *A])\n",
    "time, y_sim = G_estim.simulate(np.arange(N), u_data)"
   ]
  },
  {
   "cell_type": "code",
   "execution_count": 21,
   "metadata": {},
   "outputs": [
    {
     "data": {
      "image/png": "[encoded data removed]",
      "text/plain": [
       "<Figure size 432x288 with 1 Axes>"
      ]
     },
     "metadata": {
      "needs_background": "light"
     },
     "output_type": "display_data"
    }
   ],
   "source": [
    "plt.stem(time, y_data, markerfmt='D', label='real', basefmt=' ')\n",
    "plt.stem(time, y_sim, label='sim', basefmt=' ')\n",
    "plt.legend()\n",
    "plt.show()"
   ]
  },
  {
   "cell_type": "code",
   "execution_count": 22,
   "metadata": {},
   "outputs": [
    {
     "data": {
      "text/plain": [
       "-1.2582527612418441e-15"
      ]
     },
     "execution_count": 22,
     "metadata": {},
     "output_type": "execute_result"
    }
   ],
   "source": [
    "error = pd.Series(error.flatten())\n",
    "error.mean()"
   ]
  },
  {
   "cell_type": "code",
   "execution_count": 23,
   "metadata": {},
   "outputs": [
    {
     "data": {
      "text/plain": [
       "0.6327060997963051"
      ]
     },
     "execution_count": 23,
     "metadata": {},
     "output_type": "execute_result"
    }
   ],
   "source": [
    "error.autocorr(lag=2)"
   ]
  },
  {
   "cell_type": "code",
   "execution_count": 24,
   "metadata": {},
   "outputs": [
    {
     "data": {
      "text/plain": [
       "<AxesSubplot:xlabel='Lag', ylabel='Autocorrelation'>"
      ]
     },
     "execution_count": 24,
     "metadata": {},
     "output_type": "execute_result"
    },
    {
     "data": {
      "image/png": "[encoded data removed]",
      "text/plain": [
       "<Figure size 432x288 with 1 Axes>"
      ]
     },
     "metadata": {
      "needs_background": "light"
     },
     "output_type": "display_data"
    }
   ],
   "source": [
    "pd.plotting.autocorrelation_plot(error)"
   ]
  },
  {
   "cell_type": "code",
   "execution_count": null,
   "metadata": {},
   "outputs": [],
   "source": []
  }
 ],
 "metadata": {
  "kernelspec": {
   "display_name": "Python 3",
   "language": "python",
   "name": "python3"
  },
  "language_info": {
   "codemirror_mode": {
    "name": "ipython",
    "version": 3
   },
   "file_extension": ".py",
   "mimetype": "text/x-python",
   "name": "python",
   "nbconvert_exporter": "python",
   "pygments_lexer": "ipython3",
   "version": "3.8.5"
  }
 },
 "nbformat": 4,
 "nbformat_minor": 4
}
