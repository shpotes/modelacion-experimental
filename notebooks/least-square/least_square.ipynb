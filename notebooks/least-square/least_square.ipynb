{
  "nbformat": 4,
  "nbformat_minor": 0,
  "metadata": {
    "kernelspec": {
      "display_name": "Python 3",
      "language": "python",
      "name": "python3"
    },
    "language_info": {
      "codemirror_mode": {
        "name": "ipython",
        "version": 3
      },
      "file_extension": ".py",
      "mimetype": "text/x-python",
      "name": "python",
      "nbconvert_exporter": "python",
      "pygments_lexer": "ipython3",
      "version": "3.8.5"
    },
    "colab": {
      "name": "least_square.ipynb",
      "provenance": [],
      "include_colab_link": true
    }
  },
  "cells": [
    {
      "cell_type": "markdown",
      "metadata": {
        "id": "view-in-github",
        "colab_type": "text"
      },
      "source": [
        "<a href=\"https://colab.research.google.com/github/shpotes/modelacion-experimental/blob/master/notebooks/least-square/least_square.ipynb\" target=\"_parent\"><img src=\"https://colab.research.google.com/assets/colab-badge.svg\" alt=\"Open In Colab\"/></a>"
      ]
    },
    {
      "cell_type": "code",
      "metadata": {
        "id": "bSgmrTenH3bt",
        "outputId": "7cca152d-c0ce-4cbe-b97d-dca41a43faee",
        "colab": {
          "base_uri": "https://localhost:8080/"
        }
      },
      "source": [
        "!git clone https://github.com/shpotes/modelacion-experimental.git\n",
        "%cd modelacion-experimental"
      ],
      "execution_count": 1,
      "outputs": [
        {
          "output_type": "stream",
          "text": [
            "fatal: destination path 'modelacion-experimental' already exists and is not an empty directory.\n",
            "/content/modelacion-experimental\n"
          ],
          "name": "stdout"
        }
      ]
    },
    {
      "cell_type": "code",
      "metadata": {
        "id": "f1vgWxwNH3by"
      },
      "source": [
        "import logging\n",
        "from functools import partial\n",
        "logging.getLogger().setLevel(logging.INFO)\n",
        "\n",
        "import matplotlib.pyplot as plt\n",
        "import numpy as np\n",
        "import pandas as pd\n",
        "import sympy as sy\n",
        "from sympy.abc import t\n",
        "\n",
        "from src import DiscreteModel\n",
        "from src.methods import siso"
      ],
      "execution_count": 2,
      "outputs": []
    },
    {
      "cell_type": "code",
      "metadata": {
        "id": "RT5SJJb2H3by"
      },
      "source": [
        "na = 2\n",
        "nb = 2\n",
        "nk = 1\n",
        "\n",
        "y_data = [0.0003, 3.5056, 2.8088, 2.8067, 2.7879, 2.7883, 2.7888, 2.7939]\n",
        "N = len(y_data)\n",
        "u_data = [1 for _ in range(N)]"
      ],
      "execution_count": 3,
      "outputs": []
    },
    {
      "cell_type": "code",
      "metadata": {
        "id": "IXFbnLXfH3bz"
      },
      "source": [
        "def func_wrapper(data, idx):\n",
        "    if idx < 0:\n",
        "        return 0\n",
        "    else:\n",
        "        return data[idx]"
      ],
      "execution_count": 4,
      "outputs": []
    },
    {
      "cell_type": "code",
      "metadata": {
        "id": "0_dGOnilH3bz"
      },
      "source": [
        "y_func = partial(func_wrapper, y_data)\n",
        "u_func = partial(func_wrapper, u_data)"
      ],
      "execution_count": 5,
      "outputs": []
    },
    {
      "cell_type": "code",
      "metadata": {
        "id": "VpMu5JeBH3bz",
        "outputId": "e7065be2-ec3b-44d8-cbf3-6b3c16362f81",
        "colab": {
          "base_uri": "https://localhost:8080/",
          "height": 90
        }
      },
      "source": [
        "arx = siso.ARX(na, nb, nk)\n",
        "arx.get_transfer_function()"
      ],
      "execution_count": 6,
      "outputs": [
        {
          "output_type": "stream",
          "text": [
            "INFO:root:((b_1/q + b_2/q**2)/(1 + a_1/q + a_2/q**2), 1/(1 + a_1/q + a_2/q**2))\n",
            "INFO:root:((b_1/z + b_2/z**2)/(1 + a_1/z + a_2/z**2), 1/(1 + a_1/z + a_2/z**2))\n"
          ],
          "name": "stderr"
        },
        {
          "output_type": "execute_result",
          "data": {
            "text/latex": "$\\displaystyle \\frac{e(t) z^{2}}{1 z^{2} + a_{1} z + a_{2}} + \\frac{u(t) \\left(b_{1} z + b_{2}\\right)}{1 z^{2} + a_{1} z + a_{2}}$",
            "text/plain": [
              "e(t)*z**2/(1*z**2 + a_1*z + a_2) + u(t)*(b_1*z + b_2)/(1*z**2 + a_1*z + a_2)"
            ]
          },
          "metadata": {
            "tags": []
          },
          "execution_count": 6
        }
      ]
    },
    {
      "cell_type": "code",
      "metadata": {
        "id": "jRI_dMHuH3b0",
        "outputId": "962c648f-6a12-49c6-e337-bab7e854a4d4",
        "colab": {
          "base_uri": "https://localhost:8080/"
        }
      },
      "source": [
        "reg = arx.get_regresion_form()\n",
        "reg"
      ],
      "execution_count": 7,
      "outputs": [
        {
          "output_type": "execute_result",
          "data": {
            "text/plain": [
              "{'Φ': Matrix([\n",
              " [-y(t - 1)],\n",
              " [-y(t - 2)],\n",
              " [ u(t - 1)],\n",
              " [ u(t - 2)]]), 'θ': Matrix([\n",
              " [a_1],\n",
              " [a_2],\n",
              " [b_1],\n",
              " [b_2]])}"
            ]
          },
          "metadata": {
            "tags": []
          },
          "execution_count": 7
        }
      ]
    },
    {
      "cell_type": "code",
      "metadata": {
        "id": "4-QTSK0bH3b0"
      },
      "source": [
        "t = sy.symbols('t')\n",
        "\n",
        "y_sym = sy.Function('y')\n",
        "u_sym = sy.Function('u')"
      ],
      "execution_count": 8,
      "outputs": []
    },
    {
      "cell_type": "code",
      "metadata": {
        "id": "pPjrJ5GnH3b0",
        "outputId": "83ee1d0b-8c48-4db7-bcad-3f193ec5db16",
        "colab": {
          "base_uri": "https://localhost:8080/",
          "height": 160
        }
      },
      "source": [
        "Q = sy.Matrix([\n",
        "    reg['Φ'].T.replace(t, i) for i in range(1, N)\n",
        "])\n",
        "\n",
        "Q"
      ],
      "execution_count": 9,
      "outputs": [
        {
          "output_type": "execute_result",
          "data": {
            "text/latex": "$\\displaystyle \\left[\\begin{matrix}- y{\\left(0 \\right)} & - y{\\left(-1 \\right)} & u{\\left(0 \\right)} & u{\\left(-1 \\right)}\\\\- y{\\left(1 \\right)} & - y{\\left(0 \\right)} & u{\\left(1 \\right)} & u{\\left(0 \\right)}\\\\- y{\\left(2 \\right)} & - y{\\left(1 \\right)} & u{\\left(2 \\right)} & u{\\left(1 \\right)}\\\\- y{\\left(3 \\right)} & - y{\\left(2 \\right)} & u{\\left(3 \\right)} & u{\\left(2 \\right)}\\\\- y{\\left(4 \\right)} & - y{\\left(3 \\right)} & u{\\left(4 \\right)} & u{\\left(3 \\right)}\\\\- y{\\left(5 \\right)} & - y{\\left(4 \\right)} & u{\\left(5 \\right)} & u{\\left(4 \\right)}\\\\- y{\\left(6 \\right)} & - y{\\left(5 \\right)} & u{\\left(6 \\right)} & u{\\left(5 \\right)}\\end{matrix}\\right]$",
            "text/plain": [
              "Matrix([\n",
              "[-y(0), -y(-1), u(0), u(-1)],\n",
              "[-y(1),  -y(0), u(1),  u(0)],\n",
              "[-y(2),  -y(1), u(2),  u(1)],\n",
              "[-y(3),  -y(2), u(3),  u(2)],\n",
              "[-y(4),  -y(3), u(4),  u(3)],\n",
              "[-y(5),  -y(4), u(5),  u(4)],\n",
              "[-y(6),  -y(5), u(6),  u(5)]])"
            ]
          },
          "metadata": {
            "tags": []
          },
          "execution_count": 9
        }
      ]
    },
    {
      "cell_type": "code",
      "metadata": {
        "id": "_wBk4GuAH3b1",
        "outputId": "f0acada7-3245-4fed-f393-9a45824131cf",
        "colab": {
          "base_uri": "https://localhost:8080/",
          "height": 160
        }
      },
      "source": [
        "Q_num = Q.replace(y_sym, y_func).replace(u_sym, u_func)\n",
        "Q_num"
      ],
      "execution_count": 10,
      "outputs": [
        {
          "output_type": "execute_result",
          "data": {
            "text/latex": "$\\displaystyle \\left[\\begin{matrix}-0.0003 & 0 & 1 & 0\\\\-3.5056 & -0.0003 & 1 & 1\\\\-2.8088 & -3.5056 & 1 & 1\\\\-2.8067 & -2.8088 & 1 & 1\\\\-2.7879 & -2.8067 & 1 & 1\\\\-2.7883 & -2.7879 & 1 & 1\\\\-2.7888 & -2.7883 & 1 & 1\\end{matrix}\\right]$",
            "text/plain": [
              "Matrix([\n",
              "[-0.0003,       0, 1, 0],\n",
              "[-3.5056, -0.0003, 1, 1],\n",
              "[-2.8088, -3.5056, 1, 1],\n",
              "[-2.8067, -2.8088, 1, 1],\n",
              "[-2.7879, -2.8067, 1, 1],\n",
              "[-2.7883, -2.7879, 1, 1],\n",
              "[-2.7888, -2.7883, 1, 1]])"
            ]
          },
          "metadata": {
            "tags": []
          },
          "execution_count": 10
        }
      ]
    },
    {
      "cell_type": "code",
      "metadata": {
        "id": "-rRRxHh_H3b1"
      },
      "source": [
        "Q_num = np.array(Q_num, dtype=np.float)"
      ],
      "execution_count": 11,
      "outputs": []
    },
    {
      "cell_type": "code",
      "metadata": {
        "id": "6sqcZGPFH3b1",
        "outputId": "47c18215-838a-4414-cb33-1357ac8219ae",
        "colab": {
          "base_uri": "https://localhost:8080/",
          "height": 160
        }
      },
      "source": [
        "Y = sy.Matrix([\n",
        "    y_sym(i) for i in range(1, N)\n",
        "])\n",
        "Y"
      ],
      "execution_count": 12,
      "outputs": [
        {
          "output_type": "execute_result",
          "data": {
            "text/latex": "$\\displaystyle \\left[\\begin{matrix}y{\\left(1 \\right)}\\\\y{\\left(2 \\right)}\\\\y{\\left(3 \\right)}\\\\y{\\left(4 \\right)}\\\\y{\\left(5 \\right)}\\\\y{\\left(6 \\right)}\\\\y{\\left(7 \\right)}\\end{matrix}\\right]$",
            "text/plain": [
              "Matrix([\n",
              "[y(1)],\n",
              "[y(2)],\n",
              "[y(3)],\n",
              "[y(4)],\n",
              "[y(5)],\n",
              "[y(6)],\n",
              "[y(7)]])"
            ]
          },
          "metadata": {
            "tags": []
          },
          "execution_count": 12
        }
      ]
    },
    {
      "cell_type": "code",
      "metadata": {
        "id": "PQLMBAB-H3b2",
        "outputId": "c4df0f2c-5d94-40a3-c4e8-66b9e1854ac4",
        "colab": {
          "base_uri": "https://localhost:8080/",
          "height": 160
        }
      },
      "source": [
        "Y_num = Y.replace(y_sym, y_func)\n",
        "Y_num"
      ],
      "execution_count": 13,
      "outputs": [
        {
          "output_type": "execute_result",
          "data": {
            "text/latex": "$\\displaystyle \\left[\\begin{matrix}3.5056\\\\2.8088\\\\2.8067\\\\2.7879\\\\2.7883\\\\2.7888\\\\2.7939\\end{matrix}\\right]$",
            "text/plain": [
              "Matrix([\n",
              "[3.5056],\n",
              "[2.8088],\n",
              "[2.8067],\n",
              "[2.7879],\n",
              "[2.7883],\n",
              "[2.7888],\n",
              "[2.7939]])"
            ]
          },
          "metadata": {
            "tags": []
          },
          "execution_count": 13
        }
      ]
    },
    {
      "cell_type": "code",
      "metadata": {
        "id": "zkij7B4LH3b2",
        "outputId": "0c93fecb-395c-4edd-e6fe-ae263f516763",
        "colab": {
          "base_uri": "https://localhost:8080/"
        }
      },
      "source": [
        "Q_num"
      ],
      "execution_count": 14,
      "outputs": [
        {
          "output_type": "execute_result",
          "data": {
            "text/plain": [
              "array([[-3.0000e-04,  0.0000e+00,  1.0000e+00,  0.0000e+00],\n",
              "       [-3.5056e+00, -3.0000e-04,  1.0000e+00,  1.0000e+00],\n",
              "       [-2.8088e+00, -3.5056e+00,  1.0000e+00,  1.0000e+00],\n",
              "       [-2.8067e+00, -2.8088e+00,  1.0000e+00,  1.0000e+00],\n",
              "       [-2.7879e+00, -2.8067e+00,  1.0000e+00,  1.0000e+00],\n",
              "       [-2.7883e+00, -2.7879e+00,  1.0000e+00,  1.0000e+00],\n",
              "       [-2.7888e+00, -2.7883e+00,  1.0000e+00,  1.0000e+00]])"
            ]
          },
          "metadata": {
            "tags": []
          },
          "execution_count": 14
        }
      ]
    },
    {
      "cell_type": "code",
      "metadata": {
        "id": "RZp2t1ZCH3b2",
        "outputId": "7735ce72-026e-4478-ca8d-e4aca3cf4554",
        "colab": {
          "base_uri": "https://localhost:8080/",
          "height": 160
        }
      },
      "source": [
        "Y_num"
      ],
      "execution_count": 15,
      "outputs": [
        {
          "output_type": "execute_result",
          "data": {
            "text/latex": "$\\displaystyle \\left[\\begin{matrix}3.5056\\\\2.8088\\\\2.8067\\\\2.7879\\\\2.7883\\\\2.7888\\\\2.7939\\end{matrix}\\right]$",
            "text/plain": [
              "Matrix([\n",
              "[3.5056],\n",
              "[2.8088],\n",
              "[2.8067],\n",
              "[2.7879],\n",
              "[2.7883],\n",
              "[2.7888],\n",
              "[2.7939]])"
            ]
          },
          "metadata": {
            "tags": []
          },
          "execution_count": 15
        }
      ]
    },
    {
      "cell_type": "code",
      "metadata": {
        "id": "FbJmgOcDH3b3",
        "outputId": "e6a0593f-1053-4d5b-a72d-6c98a9420ff1",
        "colab": {
          "base_uri": "https://localhost:8080/",
          "height": 99
        }
      },
      "source": [
        "sy.Matrix(np.linalg.inv(Q_num.T @ Q_num) @ Q_num.T)"
      ],
      "execution_count": 16,
      "outputs": [
        {
          "output_type": "execute_result",
          "data": {
            "text/latex": "$\\displaystyle \\left[\\begin{matrix}2.16899415095284 \\cdot 10^{-13} & -1.27559979311465 & -5.02799844855991 & 0.969100937611131 & 1.6890219462874 & 1.83377271091078 & 1.81170264686521\\\\4.97058991189014 \\cdot 10^{-14} & 0.0321450055243311 & -1.28256594402808 & 0.173158096455911 & 0.337180276172919 & 0.37257751440616 & 0.367505051468754\\\\0.999999999999999 & -0.000382679937937502 & -0.00150839953458171 & 0.000290730281286011 & 0.000506706583890848 & 0.000550131813278232 & 0.000543510794064561\\\\-0.999999999999245 & -3.47175250492671 & -17.6269457488505 & 3.41484332699076 & 5.9145178737586 & 6.4230379141855 & 6.34629913884208\\end{matrix}\\right]$",
            "text/plain": [
              "Matrix([\n",
              "[2.16899415095284e-13,     -1.27559979311465,    -5.02799844855991,    0.969100937611131,      1.6890219462874,     1.83377271091078,     1.81170264686521],\n",
              "[4.97058991189014e-14,    0.0321450055243311,    -1.28256594402808,    0.173158096455911,    0.337180276172919,     0.37257751440616,    0.367505051468754],\n",
              "[   0.999999999999999, -0.000382679937937502, -0.00150839953458171, 0.000290730281286011, 0.000506706583890848, 0.000550131813278232, 0.000543510794064561],\n",
              "[  -0.999999999999245,     -3.47175250492671,    -17.6269457488505,     3.41484332699076,      5.9145178737586,      6.4230379141855,     6.34629913884208]])"
            ]
          },
          "metadata": {
            "tags": []
          },
          "execution_count": 16
        }
      ]
    },
    {
      "cell_type": "code",
      "metadata": {
        "id": "79j7A9M5H3b3"
      },
      "source": [
        "theta = np.linalg.inv(Q_num.T @ Q_num) @ Q_num.T @ Y_num\n",
        "theta = np.array(theta, dtype=np.float)"
      ],
      "execution_count": 17,
      "outputs": []
    },
    {
      "cell_type": "code",
      "metadata": {
        "id": "GaqODLk6H3b3",
        "outputId": "5d797020-c97f-4fad-ba9a-e7672639b243",
        "colab": {
          "base_uri": "https://localhost:8080/"
        }
      },
      "source": [
        "error = np.array(Q_num @ theta - Y_num, dtype=np.float)\n",
        "error"
      ],
      "execution_count": 18,
      "outputs": [
        {
          "output_type": "execute_result",
          "data": {
            "text/plain": [
              "array([[-4.44089210e-16],\n",
              "       [-7.76413490e-05],\n",
              "       [-4.36993423e-04],\n",
              "       [ 3.66704492e-03],\n",
              "       [ 1.19322252e-03],\n",
              "       [ 3.46033081e-04],\n",
              "       [-4.69166575e-03]])"
            ]
          },
          "metadata": {
            "tags": []
          },
          "execution_count": 18
        }
      ]
    },
    {
      "cell_type": "code",
      "metadata": {
        "id": "GTSjK0nlH3b4",
        "outputId": "4a8ca909-d74a-412b-a14a-acb99c892a9c",
        "colab": {
          "base_uri": "https://localhost:8080/"
        }
      },
      "source": [
        "# lambd\n",
        "lambd = error.T @ error / (N - (na + nb))\n",
        "lambd.flatten()[0]"
      ],
      "execution_count": 19,
      "outputs": [
        {
          "output_type": "execute_result",
          "data": {
            "text/plain": [
              "9.29986406516148e-06"
            ]
          },
          "metadata": {
            "tags": []
          },
          "execution_count": 19
        }
      ]
    },
    {
      "cell_type": "code",
      "metadata": {
        "id": "FWORZXpMH3b4",
        "outputId": "d1a0d6f8-ddac-4bfb-a8ce-f1e6e496c318",
        "colab": {
          "base_uri": "https://localhost:8080/",
          "height": 99
        }
      },
      "source": [
        "# Cov\n",
        "sy.Matrix(lambd * np.linalg.inv(Q_num.T @ Q_num))"
      ],
      "execution_count": 20,
      "outputs": [
        {
          "output_type": "execute_result",
          "data": {
            "text/latex": "$\\displaystyle \\left[\\begin{matrix}0.000347302157143399 & 7.8993792403348 \\cdot 10^{-5} & 1.04190647145037 \\cdot 10^{-7} & 0.00120555904489496\\\\7.89937924033478 \\cdot 10^{-5} & 1.91907989793939 \\cdot 10^{-5} & 2.36981377214666 \\cdot 10^{-8} & 0.000277201641932899\\\\1.04190647143965 \\cdot 10^{-7} & 2.36981377212205 \\cdot 10^{-8} & 9.29989532235562 \\cdot 10^{-6} & -8.9381963516897 \\cdot 10^{-6}\\\\0.00120555904489496 & 0.000277201641932899 & -8.93819635168597 \\cdot 10^{-6} & 0.00420294231826434\\end{matrix}\\right]$",
            "text/plain": [
              "Matrix([\n",
              "[0.000347302157143399,   7.8993792403348e-5,  1.04190647145037e-7,  0.00120555904489496],\n",
              "[ 7.89937924033478e-5,  1.91907989793939e-5,  2.36981377214666e-8, 0.000277201641932899],\n",
              "[ 1.04190647143965e-7,  2.36981377212205e-8,  9.29989532235562e-6,  -8.9381963516897e-6],\n",
              "[ 0.00120555904489496, 0.000277201641932899, -8.93819635168597e-6,  0.00420294231826434]])"
            ]
          },
          "metadata": {
            "tags": []
          },
          "execution_count": 20
        }
      ]
    },
    {
      "cell_type": "code",
      "metadata": {
        "id": "VoVeMY0IH3b4"
      },
      "source": [
        "A = theta.flatten()[:na].tolist()\n",
        "B = theta.flatten()[-nb:].tolist()"
      ],
      "execution_count": 21,
      "outputs": []
    },
    {
      "cell_type": "code",
      "metadata": {
        "id": "GSa-Q8UGH3b5"
      },
      "source": [
        "G_estim = DiscreteModel(B, [1, *A])\n",
        "time, y_sim = G_estim.simulate(np.arange(N), u_data)"
      ],
      "execution_count": 22,
      "outputs": []
    },
    {
      "cell_type": "code",
      "metadata": {
        "id": "bqbODqrPH3b5",
        "outputId": "606d8c13-3c59-4aea-f44d-0ab6a94eb93b",
        "colab": {
          "base_uri": "https://localhost:8080/",
          "height": 353
        }
      },
      "source": [
        "plt.stem(time, y_data, markerfmt='D', label='real', basefmt=' ')\n",
        "plt.stem(time, y_sim, label='sim', basefmt=' ')\n",
        "plt.legend()\n",
        "plt.show()"
      ],
      "execution_count": 23,
      "outputs": [
        {
          "output_type": "stream",
          "text": [
            "/usr/local/lib/python3.7/dist-packages/ipykernel_launcher.py:1: UserWarning: In Matplotlib 3.3 individual lines on a stem plot will be added as a LineCollection instead of individual lines. This significantly improves the performance of a stem plot. To remove this warning and switch to the new behaviour, set the \"use_line_collection\" keyword argument to True.\n",
            "  \"\"\"Entry point for launching an IPython kernel.\n",
            "/usr/local/lib/python3.7/dist-packages/ipykernel_launcher.py:2: UserWarning: In Matplotlib 3.3 individual lines on a stem plot will be added as a LineCollection instead of individual lines. This significantly improves the performance of a stem plot. To remove this warning and switch to the new behaviour, set the \"use_line_collection\" keyword argument to True.\n",
            "  \n"
          ],
          "name": "stderr"
        },
        {
          "output_type": "display_data",
          "data": {
            "image/png": "[encoded data removed]",
            "text/plain": [
              "<Figure size 432x288 with 1 Axes>"
            ]
          },
          "metadata": {
            "tags": [],
            "needs_background": "light"
          }
        }
      ]
    }
  ]
}