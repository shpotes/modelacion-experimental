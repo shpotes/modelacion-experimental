{
 "cells": [
  {
   "cell_type": "code",
   "execution_count": 1,
   "metadata": {},
   "outputs": [
    {
     "name": "stdout",
     "output_type": "stream",
     "text": [
      "/home/shpotes/Courses/EAFIT/experimental/modelacion-experimental\n"
     ]
    }
   ],
   "source": [
    "%cd ../.."
   ]
  },
  {
   "cell_type": "code",
   "execution_count": 2,
   "metadata": {},
   "outputs": [],
   "source": [
    "import logging\n",
    "from functools import partial\n",
    "logging.getLogger().setLevel(logging.INFO)\n",
    "\n",
    "import matplotlib.pyplot as plt\n",
    "import numpy as np\n",
    "import pandas as pd\n",
    "import sympy as sy\n",
    "from sympy.abc import t\n",
    "\n",
    "from src import DiscreteModel\n",
    "from src.methods import siso"
   ]
  },
  {
   "cell_type": "code",
   "execution_count": 14,
   "metadata": {},
   "outputs": [],
   "source": [
    "na = 2\n",
    "nb = 2\n",
    "nk = 1\n",
    "\n",
    "y_data = [0.0003, 3.5056, 2.8088, 2.8067, 2.7879, 2.7883, 2.7888, 2.7939]\n",
    "N = len(y_data)\n",
    "u_data = [1 for _ in range(N)]"
   ]
  },
  {
   "cell_type": "code",
   "execution_count": 15,
   "metadata": {},
   "outputs": [
    {
     "data": {
      "text/plain": [
       "8"
      ]
     },
     "execution_count": 15,
     "metadata": {},
     "output_type": "execute_result"
    }
   ],
   "source": [
    "N"
   ]
  },
  {
   "cell_type": "code",
   "execution_count": 16,
   "metadata": {},
   "outputs": [],
   "source": [
    "def func_wrapper(data, idx):\n",
    "    if idx < 0:\n",
    "        return 0\n",
    "    else:\n",
    "        return data[idx]"
   ]
  },
  {
   "cell_type": "code",
   "execution_count": 17,
   "metadata": {},
   "outputs": [],
   "source": [
    "y_func = partial(func_wrapper, y_data)\n",
    "u_func = partial(func_wrapper, u_data)"
   ]
  },
  {
   "cell_type": "code",
   "execution_count": 18,
   "metadata": {},
   "outputs": [
    {
     "name": "stderr",
     "output_type": "stream",
     "text": [
      "INFO:root:((b_1/q + b_2/q**2)/(1 + a_1/q + a_2/q**2), 1/(1 + a_1/q + a_2/q**2))\n",
      "INFO:root:((b_1/z + b_2/z**2)/(1 + a_1/z + a_2/z**2), 1/(1 + a_1/z + a_2/z**2))\n"
     ]
    },
    {
     "data": {
      "text/latex": [
       "$\\displaystyle \\frac{e(t) z^{2}}{1 z^{2} + a_{1} z + a_{2}} + \\frac{u(t) \\left(b_{1} z + b_{2}\\right)}{1 z^{2} + a_{1} z + a_{2}}$"
      ],
      "text/plain": [
       "e(t)*z**2/(1*z**2 + a_1*z + a_2) + u(t)*(b_1*z + b_2)/(1*z**2 + a_1*z + a_2)"
      ]
     },
     "execution_count": 18,
     "metadata": {},
     "output_type": "execute_result"
    }
   ],
   "source": [
    "arx = siso.ARX(na, nb, nk)\n",
    "arx.get_transfer_function()"
   ]
  },
  {
   "cell_type": "code",
   "execution_count": 19,
   "metadata": {},
   "outputs": [
    {
     "data": {
      "text/plain": [
       "{'Φ': Matrix([\n",
       " [-y(t - 1)],\n",
       " [-y(t - 2)],\n",
       " [ u(t - 1)],\n",
       " [ u(t - 2)]]),\n",
       " 'θ': Matrix([\n",
       " [a_1],\n",
       " [a_2],\n",
       " [b_1],\n",
       " [b_2]])}"
      ]
     },
     "execution_count": 19,
     "metadata": {},
     "output_type": "execute_result"
    }
   ],
   "source": [
    "reg = arx.get_regresion_form()\n",
    "reg"
   ]
  },
  {
   "cell_type": "code",
   "execution_count": 20,
   "metadata": {},
   "outputs": [],
   "source": [
    "t = sy.symbols('t')\n",
    "\n",
    "y_sym = sy.Function('y')\n",
    "u_sym = sy.Function('u')"
   ]
  },
  {
   "cell_type": "code",
   "execution_count": 21,
   "metadata": {},
   "outputs": [
    {
     "data": {
      "text/latex": [
       "$\\displaystyle \\left[\\begin{matrix}- y{\\left(0 \\right)} & - y{\\left(-1 \\right)} & u{\\left(0 \\right)} & u{\\left(-1 \\right)}\\\\- y{\\left(1 \\right)} & - y{\\left(0 \\right)} & u{\\left(1 \\right)} & u{\\left(0 \\right)}\\\\- y{\\left(2 \\right)} & - y{\\left(1 \\right)} & u{\\left(2 \\right)} & u{\\left(1 \\right)}\\\\- y{\\left(3 \\right)} & - y{\\left(2 \\right)} & u{\\left(3 \\right)} & u{\\left(2 \\right)}\\\\- y{\\left(4 \\right)} & - y{\\left(3 \\right)} & u{\\left(4 \\right)} & u{\\left(3 \\right)}\\\\- y{\\left(5 \\right)} & - y{\\left(4 \\right)} & u{\\left(5 \\right)} & u{\\left(4 \\right)}\\\\- y{\\left(6 \\right)} & - y{\\left(5 \\right)} & u{\\left(6 \\right)} & u{\\left(5 \\right)}\\end{matrix}\\right]$"
      ],
      "text/plain": [
       "Matrix([\n",
       "[-y(0), -y(-1), u(0), u(-1)],\n",
       "[-y(1),  -y(0), u(1),  u(0)],\n",
       "[-y(2),  -y(1), u(2),  u(1)],\n",
       "[-y(3),  -y(2), u(3),  u(2)],\n",
       "[-y(4),  -y(3), u(4),  u(3)],\n",
       "[-y(5),  -y(4), u(5),  u(4)],\n",
       "[-y(6),  -y(5), u(6),  u(5)]])"
      ]
     },
     "execution_count": 21,
     "metadata": {},
     "output_type": "execute_result"
    }
   ],
   "source": [
    "Q = sy.Matrix([\n",
    "    reg['Φ'].T.replace(t, i) for i in range(1, N)\n",
    "])\n",
    "\n",
    "Q"
   ]
  },
  {
   "cell_type": "code",
   "execution_count": 37,
   "metadata": {},
   "outputs": [
    {
     "data": {
      "text/latex": [
       "$\\displaystyle \\left[\\begin{matrix}-0.0003 & 0 & 1 & 0\\\\-3.5056 & -0.0003 & 1 & 1\\\\-2.8088 & -3.5056 & 1 & 1\\\\-2.8067 & -2.8088 & 1 & 1\\\\-2.7879 & -2.8067 & 1 & 1\\\\-2.7883 & -2.7879 & 1 & 1\\\\-2.7888 & -2.7883 & 1 & 1\\end{matrix}\\right]$"
      ],
      "text/plain": [
       "Matrix([\n",
       "[-0.0003,       0, 1, 0],\n",
       "[-3.5056, -0.0003, 1, 1],\n",
       "[-2.8088, -3.5056, 1, 1],\n",
       "[-2.8067, -2.8088, 1, 1],\n",
       "[-2.7879, -2.8067, 1, 1],\n",
       "[-2.7883, -2.7879, 1, 1],\n",
       "[-2.7888, -2.7883, 1, 1]])"
      ]
     },
     "execution_count": 37,
     "metadata": {},
     "output_type": "execute_result"
    }
   ],
   "source": [
    "Q_num = Q.replace(y_sym, y_func).replace(u_sym, u_func)\n",
    "Q_num"
   ]
  },
  {
   "cell_type": "code",
   "execution_count": 23,
   "metadata": {},
   "outputs": [],
   "source": [
    "Q_num = np.array(Q_num, dtype=np.float)"
   ]
  },
  {
   "cell_type": "code",
   "execution_count": 24,
   "metadata": {},
   "outputs": [
    {
     "data": {
      "text/latex": [
       "$\\displaystyle \\left[\\begin{matrix}y{\\left(1 \\right)}\\\\y{\\left(2 \\right)}\\\\y{\\left(3 \\right)}\\\\y{\\left(4 \\right)}\\\\y{\\left(5 \\right)}\\\\y{\\left(6 \\right)}\\\\y{\\left(7 \\right)}\\end{matrix}\\right]$"
      ],
      "text/plain": [
       "Matrix([\n",
       "[y(1)],\n",
       "[y(2)],\n",
       "[y(3)],\n",
       "[y(4)],\n",
       "[y(5)],\n",
       "[y(6)],\n",
       "[y(7)]])"
      ]
     },
     "execution_count": 24,
     "metadata": {},
     "output_type": "execute_result"
    }
   ],
   "source": [
    "Y = sy.Matrix([\n",
    "    y_sym(i) for i in range(1, N)\n",
    "])\n",
    "Y"
   ]
  },
  {
   "cell_type": "code",
   "execution_count": 25,
   "metadata": {},
   "outputs": [
    {
     "data": {
      "text/latex": [
       "$\\displaystyle \\left[\\begin{matrix}3.5056\\\\2.8088\\\\2.8067\\\\2.7879\\\\2.7883\\\\2.7888\\\\2.7939\\end{matrix}\\right]$"
      ],
      "text/plain": [
       "Matrix([\n",
       "[3.5056],\n",
       "[2.8088],\n",
       "[2.8067],\n",
       "[2.7879],\n",
       "[2.7883],\n",
       "[2.7888],\n",
       "[2.7939]])"
      ]
     },
     "execution_count": 25,
     "metadata": {},
     "output_type": "execute_result"
    }
   ],
   "source": [
    "Y_num = Y.replace(y_sym, y_func)\n",
    "Y_num"
   ]
  },
  {
   "cell_type": "code",
   "execution_count": 46,
   "metadata": {},
   "outputs": [
    {
     "data": {
      "text/latex": [
       "$\\displaystyle \\left[\\begin{matrix}-0.0003 & 0 & 1 & 0\\\\-3.5056 & -0.0003 & 1 & 1\\\\-2.8088 & -3.5056 & 1 & 1\\\\-2.8067 & -2.8088 & 1 & 1\\\\-2.7879 & -2.8067 & 1 & 1\\\\-2.7883 & -2.7879 & 1 & 1\\\\-2.7888 & -2.7883 & 1 & 1\\end{matrix}\\right]$"
      ],
      "text/plain": [
       "Matrix([\n",
       "[-0.0003,       0, 1, 0],\n",
       "[-3.5056, -0.0003, 1, 1],\n",
       "[-2.8088, -3.5056, 1, 1],\n",
       "[-2.8067, -2.8088, 1, 1],\n",
       "[-2.7879, -2.8067, 1, 1],\n",
       "[-2.7883, -2.7879, 1, 1],\n",
       "[-2.7888, -2.7883, 1, 1]])"
      ]
     },
     "execution_count": 46,
     "metadata": {},
     "output_type": "execute_result"
    }
   ],
   "source": [
    "Q_num"
   ]
  },
  {
   "cell_type": "code",
   "execution_count": 47,
   "metadata": {},
   "outputs": [
    {
     "data": {
      "text/latex": [
       "$\\displaystyle \\left[\\begin{matrix}8.52443116095003 \\cdot 10^{-14} & -1.27559979311536 & -5.0279984485629 & 0.969100937611699 & 1.68902194628836 & 1.83377271091184 & 1.81170264686628\\\\1.95381905099268 \\cdot 10^{-14} & 0.0321450055241748 & -1.28256594402876 & 0.173158096456042 & 0.33718027617315 & 0.372577514406412 & 0.367505051469003\\\\1.0 & -0.000382679937937391 & -0.00150839953458071 & 0.000290730281285456 & 0.000506706583890071 & 0.000550131813277455 & 0.000543510794063673\\\\-0.999999999999704 & -3.4717525049291 & -17.6269457488609 & 3.41484332699281 & 5.91451787376207 & 6.42303791418931 & 6.34629913884584\\end{matrix}\\right]$"
      ],
      "text/plain": [
       "Matrix([\n",
       "[8.52443116095003e-14,     -1.27559979311536,     -5.0279984485629,    0.969100937611699,     1.68902194628836,     1.83377271091184,     1.81170264686628],\n",
       "[1.95381905099268e-14,    0.0321450055241748,    -1.28256594402876,    0.173158096456042,     0.33718027617315,    0.372577514406412,    0.367505051469003],\n",
       "[                 1.0, -0.000382679937937391, -0.00150839953458071, 0.000290730281285456, 0.000506706583890071, 0.000550131813277455, 0.000543510794063673],\n",
       "[  -0.999999999999704,      -3.4717525049291,    -17.6269457488609,     3.41484332699281,     5.91451787376207,     6.42303791418931,     6.34629913884584]])"
      ]
     },
     "execution_count": 47,
     "metadata": {},
     "output_type": "execute_result"
    }
   ],
   "source": [
    "sy.Inverse(Q_num.T @ Q_num) @ Q_num.T"
   ]
  },
  {
   "cell_type": "code",
   "execution_count": 50,
   "metadata": {},
   "outputs": [
    {
     "data": {
      "text/plain": [
       "array([[3.5056],\n",
       "       [2.8088],\n",
       "       [2.8067],\n",
       "       [2.7879],\n",
       "       [2.7883],\n",
       "       [2.7888],\n",
       "       [2.7939]])"
      ]
     },
     "execution_count": 50,
     "metadata": {},
     "output_type": "execute_result"
    }
   ],
   "source": [
    "Y_num"
   ]
  },
  {
   "cell_type": "code",
   "execution_count": 49,
   "metadata": {},
   "outputs": [
    {
     "data": {
      "text/latex": [
       "$\\displaystyle \\left[\\begin{matrix}-0.107990186409459\\\\-0.0207651869499188\\\\3.50556760294407\\\\-1.07542187132506\\end{matrix}\\right]$"
      ],
      "text/plain": [
       "Matrix([\n",
       "[ -0.107990186409459],\n",
       "[-0.0207651869499188],\n",
       "[   3.50556760294407],\n",
       "[  -1.07542187132506]])"
      ]
     },
     "execution_count": 49,
     "metadata": {},
     "output_type": "execute_result"
    }
   ],
   "source": [
    "sy.Inverse(Q_num.T @ Q_num) @ Q_num.T @ Y_num"
   ]
  },
  {
   "cell_type": "code",
   "execution_count": 36,
   "metadata": {},
   "outputs": [
    {
     "data": {
      "text/plain": [
       "array([[-3.0000e-04,  0.0000e+00,  1.0000e+00,  0.0000e+00],\n",
       "       [-3.5056e+00, -3.0000e-04,  1.0000e+00,  1.0000e+00],\n",
       "       [-2.8088e+00, -3.5056e+00,  1.0000e+00,  1.0000e+00],\n",
       "       [-2.8067e+00, -2.8088e+00,  1.0000e+00,  1.0000e+00],\n",
       "       [-2.7879e+00, -2.8067e+00,  1.0000e+00,  1.0000e+00],\n",
       "       [-2.7883e+00, -2.7879e+00,  1.0000e+00,  1.0000e+00],\n",
       "       [-2.7888e+00, -2.7883e+00,  1.0000e+00,  1.0000e+00]])"
      ]
     },
     "execution_count": 36,
     "metadata": {},
     "output_type": "execute_result"
    }
   ],
   "source": [
    "Q_num"
   ]
  },
  {
   "cell_type": "code",
   "execution_count": 35,
   "metadata": {},
   "outputs": [
    {
     "data": {
      "text/latex": [
       "$\\displaystyle \\left[\\begin{matrix}2.16902884542236 \\cdot 10^{-13} & -1.27559979311465 & -5.02799844855991 & 0.969100937611131 & 1.6890219462874 & 1.83377271091078 & 1.81170264686521\\\\4.97006949484735 \\cdot 10^{-14} & 0.0321450055243311 & -1.28256594402808 & 0.173158096455911 & 0.337180276172919 & 0.37257751440616 & 0.367505051468754\\\\0.999999999999999 & -0.000382679937937502 & -0.00150839953458171 & 0.000290730281286011 & 0.000506706583890848 & 0.000550131813278232 & 0.00054351079406445\\\\-0.999999999999245 & -3.47175250492671 & -17.6269457488505 & 3.41484332699076 & 5.9145178737586 & 6.4230379141855 & 6.34629913884208\\end{matrix}\\right]$"
      ],
      "text/plain": [
       "Matrix([\n",
       "[2.16902884542236e-13,     -1.27559979311465,    -5.02799844855991,    0.969100937611131,      1.6890219462874,     1.83377271091078,    1.81170264686521],\n",
       "[4.97006949484735e-14,    0.0321450055243311,    -1.28256594402808,    0.173158096455911,    0.337180276172919,     0.37257751440616,   0.367505051468754],\n",
       "[   0.999999999999999, -0.000382679937937502, -0.00150839953458171, 0.000290730281286011, 0.000506706583890848, 0.000550131813278232, 0.00054351079406445],\n",
       "[  -0.999999999999245,     -3.47175250492671,    -17.6269457488505,     3.41484332699076,      5.9145178737586,      6.4230379141855,    6.34629913884208]])"
      ]
     },
     "execution_count": 35,
     "metadata": {},
     "output_type": "execute_result"
    }
   ],
   "source": [
    "sy.Matrix(np.linalg.inv(Q_num.T @ Q_num) @ Q_num.T)"
   ]
  },
  {
   "cell_type": "code",
   "execution_count": 33,
   "metadata": {},
   "outputs": [
    {
     "data": {
      "text/plain": [
       "array([[-0.10799019],\n",
       "       [-0.02076519],\n",
       "       [ 3.5055676 ],\n",
       "       [-1.07542187]])"
      ]
     },
     "execution_count": 33,
     "metadata": {},
     "output_type": "execute_result"
    }
   ],
   "source": [
    "theta = np.linalg.inv(Q_num.T @ Q_num) @ Q_num.T @ Y_num\n",
    "theta"
   ]
  },
  {
   "cell_type": "code",
   "execution_count": 55,
   "metadata": {},
   "outputs": [
    {
     "data": {
      "text/latex": [
       "$\\displaystyle \\left[\\begin{matrix}-1.33226762955019 \\cdot 10^{-15}\\\\-7.76413489886885 \\cdot 10^{-5}\\\\-0.000436993423376997\\\\0.00366704491851033\\\\0.00119322252142906\\\\0.000346033081335406\\\\-0.0046916657506797\\end{matrix}\\right]$"
      ],
      "text/plain": [
       "Matrix([\n",
       "[-1.33226762955019e-15],\n",
       "[ -7.76413489886885e-5],\n",
       "[-0.000436993423376997],\n",
       "[  0.00366704491851033],\n",
       "[  0.00119322252142906],\n",
       "[ 0.000346033081335406],\n",
       "[  -0.0046916657506797]])"
      ]
     },
     "execution_count": 55,
     "metadata": {},
     "output_type": "execute_result"
    }
   ],
   "source": [
    "error = Q_num @ theta - Y_num\n",
    "error"
   ]
  },
  {
   "cell_type": "code",
   "execution_count": 29,
   "metadata": {},
   "outputs": [
    {
     "data": {
      "text/plain": [
       "9.299864065161117e-06"
      ]
     },
     "execution_count": 29,
     "metadata": {},
     "output_type": "execute_result"
    }
   ],
   "source": [
    "# lambd\n",
    "lambd = error.T @ error / (N - (na + nb))\n",
    "lambd.flatten()[0]"
   ]
  },
  {
   "cell_type": "code",
   "execution_count": 30,
   "metadata": {},
   "outputs": [
    {
     "data": {
      "text/latex": [
       "$\\displaystyle \\left[\\begin{matrix}0.000347302157143385 & 7.89937924033449 \\cdot 10^{-5} & 1.04190647145033 \\cdot 10^{-7} & 0.00120555904489491\\\\7.89937924033447 \\cdot 10^{-5} & 1.91907989793932 \\cdot 10^{-5} & 2.36981377214656 \\cdot 10^{-8} & 0.000277201641932888\\\\1.04190647143961 \\cdot 10^{-7} & 2.36981377212196 \\cdot 10^{-8} & 9.29989532235525 \\cdot 10^{-6} & -8.93819635168935 \\cdot 10^{-6}\\\\0.00120555904489491 & 0.000277201641932889 & -8.93819635168563 \\cdot 10^{-6} & 0.00420294231826418\\end{matrix}\\right]$"
      ],
      "text/plain": [
       "Matrix([\n",
       "[0.000347302157143385,  7.89937924033449e-5,  1.04190647145033e-7,  0.00120555904489491],\n",
       "[ 7.89937924033447e-5,  1.91907989793932e-5,  2.36981377214656e-8, 0.000277201641932888],\n",
       "[ 1.04190647143961e-7,  2.36981377212196e-8,  9.29989532235525e-6, -8.93819635168935e-6],\n",
       "[ 0.00120555904489491, 0.000277201641932889, -8.93819635168563e-6,  0.00420294231826418]])"
      ]
     },
     "execution_count": 30,
     "metadata": {},
     "output_type": "execute_result"
    }
   ],
   "source": [
    "# Cov\n",
    "sy.Matrix(lambd * np.linalg.inv(Q_num.T @ Q_num))"
   ]
  },
  {
   "cell_type": "code",
   "execution_count": 52,
   "metadata": {},
   "outputs": [],
   "source": [
    "A = theta.flatten()[:na].tolist()\n",
    "B = theta.flatten()[-nb:].tolist()"
   ]
  },
  {
   "cell_type": "code",
   "execution_count": 54,
   "metadata": {},
   "outputs": [
    {
     "data": {
      "text/plain": [
       "[3.5055676029440757, -1.075421871324039]"
      ]
     },
     "execution_count": 54,
     "metadata": {},
     "output_type": "execute_result"
    }
   ],
   "source": [
    "B"
   ]
  },
  {
   "cell_type": "code",
   "execution_count": 20,
   "metadata": {},
   "outputs": [],
   "source": [
    "G_estim = DiscreteModel(B, [1, *A])\n",
    "time, y_sim = G_estim.simulate(np.arange(N), u_data)"
   ]
  },
  {
   "cell_type": "code",
   "execution_count": 21,
   "metadata": {},
   "outputs": [
    {
     "data": {
      "image/png": "[encoded data removed]",
      "text/plain": [
       "<Figure size 432x288 with 1 Axes>"
      ]
     },
     "metadata": {
      "needs_background": "light"
     },
     "output_type": "display_data"
    }
   ],
   "source": [
    "plt.stem(time, y_data, markerfmt='D', label='real', basefmt=' ')\n",
    "plt.stem(time, y_sim, label='sim', basefmt=' ')\n",
    "plt.legend()\n",
    "plt.show()"
   ]
  },
  {
   "cell_type": "code",
   "execution_count": null,
   "metadata": {},
   "outputs": [],
   "source": []
  }
 ],
 "metadata": {
  "kernelspec": {
   "display_name": "Python 3",
   "language": "python",
   "name": "python3"
  },
  "language_info": {
   "codemirror_mode": {
    "name": "ipython",
    "version": 3
   },
   "file_extension": ".py",
   "mimetype": "text/x-python",
   "name": "python",
   "nbconvert_exporter": "python",
   "pygments_lexer": "ipython3",
   "version": "3.8.5"
  }
 },
 "nbformat": 4,
 "nbformat_minor": 4
}
