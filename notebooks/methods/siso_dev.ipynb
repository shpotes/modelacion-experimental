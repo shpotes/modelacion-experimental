{
 "cells": [
  {
   "cell_type": "code",
   "execution_count": 1,
   "metadata": {},
   "outputs": [
    {
     "name": "stdout",
     "output_type": "stream",
     "text": [
      "/home/shpotes/Courses/EAFIT/experimental/exam\n"
     ]
    }
   ],
   "source": [
    "%cd ../.."
   ]
  },
  {
   "cell_type": "code",
   "execution_count": 2,
   "metadata": {},
   "outputs": [],
   "source": [
    "import logging\n",
    "# logging.getLogger().setLevel(logging.INFO)\n",
    "import sympy as sy\n",
    "\n",
    "from src.methods import siso"
   ]
  },
  {
   "cell_type": "code",
   "execution_count": 3,
   "metadata": {},
   "outputs": [
    {
     "data": {
      "text/latex": [
       "$\\displaystyle \\frac{e(t) z^{2}}{1 z^{2} + a_{1} z + a_{2}} + \\frac{u(t) \\left(b_{1} z^{3} + b_{2} z^{2} + b_{3} z + b_{4}\\right)}{z^{2} \\left(1 z^{2} + a_{1} z + a_{2}\\right)}$"
      ],
      "text/plain": [
       "e(t)*z**2/(1*z**2 + a_1*z + a_2) + u(t)*(b_1*z**3 + b_2*z**2 + b_3*z + b_4)/(z**2*(1*z**2 + a_1*z + a_2))"
      ]
     },
     "execution_count": 3,
     "metadata": {},
     "output_type": "execute_result"
    }
   ],
   "source": [
    "arx = siso.ARX(2, 4, 1)\n",
    "arx.get_transfer_function()"
   ]
  },
  {
   "cell_type": "code",
   "execution_count": 4,
   "metadata": {},
   "outputs": [
    {
     "data": {
      "text/plain": [
       "(1*y(t-1) + a_1*y(t-2),\n",
       " b_1*u(t-1) + b_2*u(t-2) + b_3*u(t-3) + b_4*u(t-4) + e(t))"
      ]
     },
     "execution_count": 4,
     "metadata": {},
     "output_type": "execute_result"
    }
   ],
   "source": [
    "arx.get_diff_equation()"
   ]
  },
  {
   "cell_type": "code",
   "execution_count": 5,
   "metadata": {},
   "outputs": [
    {
     "data": {
      "text/plain": [
       "{'Φ': Matrix([\n",
       " [y(t-1)],\n",
       " [y(t-2)],\n",
       " [u(t-1)],\n",
       " [u(t-2)],\n",
       " [u(t-3)],\n",
       " [u(t-4)]]),\n",
       " 'θ': Matrix([\n",
       " [a_1],\n",
       " [a_2],\n",
       " [b_1],\n",
       " [b_2],\n",
       " [b_3],\n",
       " [b_4]])}"
      ]
     },
     "execution_count": 5,
     "metadata": {},
     "output_type": "execute_result"
    }
   ],
   "source": [
    "arx.get_regresion_form()"
   ]
  },
  {
   "cell_type": "code",
   "execution_count": 6,
   "metadata": {},
   "outputs": [
    {
     "data": {
      "text/latex": [
       "$\\displaystyle \\frac{b_{1} u(t)}{z^{8} \\left(1 z^{2} + a_{1} z + a_{2}\\right)} + \\frac{e(t) z^{2}}{1 z^{2} + a_{1} z + a_{2}}$"
      ],
      "text/plain": [
       "b_1*u(t)/(z**8*(1*z**2 + a_1*z + a_2)) + e(t)*z**2/(1*z**2 + a_1*z + a_2)"
      ]
     },
     "execution_count": 6,
     "metadata": {},
     "output_type": "execute_result"
    }
   ],
   "source": [
    "arx = siso.ARX(2, 1, 10)\n",
    "arx.get_transfer_function()"
   ]
  },
  {
   "cell_type": "code",
   "execution_count": 7,
   "metadata": {},
   "outputs": [
    {
     "data": {
      "text/plain": [
       "(1*y(t-10) + a_1*y(t-11), b_1*u(t-10) + e(t))"
      ]
     },
     "execution_count": 7,
     "metadata": {},
     "output_type": "execute_result"
    }
   ],
   "source": [
    "arx.get_diff_equation()"
   ]
  },
  {
   "cell_type": "code",
   "execution_count": 8,
   "metadata": {},
   "outputs": [
    {
     "data": {
      "text/plain": [
       "{'Φ': Matrix([\n",
       " [y(t-10)],\n",
       " [y(t-11)],\n",
       " [u(t-10)]]),\n",
       " 'θ': Matrix([\n",
       " [a_1],\n",
       " [a_2],\n",
       " [b_1]])}"
      ]
     },
     "execution_count": 8,
     "metadata": {},
     "output_type": "execute_result"
    }
   ],
   "source": [
    "arx.get_regresion_form()"
   ]
  }
 ],
 "metadata": {
  "kernelspec": {
   "display_name": "Python 3",
   "language": "python",
   "name": "python3"
  },
  "language_info": {
   "codemirror_mode": {
    "name": "ipython",
    "version": 3
   },
   "file_extension": ".py",
   "mimetype": "text/x-python",
   "name": "python",
   "nbconvert_exporter": "python",
   "pygments_lexer": "ipython3",
   "version": "3.8.5"
  }
 },
 "nbformat": 4,
 "nbformat_minor": 4
}
